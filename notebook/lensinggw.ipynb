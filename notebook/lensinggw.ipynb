{
 "cells": [
  {
   "cell_type": "code",
   "execution_count": 50,
   "id": "d4820a3c",
   "metadata": {
    "scrolled": false
   },
   "outputs": [
    {
     "name": "stdout",
     "output_type": "stream",
     "text": [
      "\n",
      "---- Will simulate a signal with the following parameters ----\n",
      "\n",
      "m1          --> 33.04873936655519\n",
      "m2          --> 11.710289399845838\n",
      "spin1x      --> 0.0\n",
      "spin1y      --> 0.0\n",
      "spin1z      --> -0.965965965965966\n",
      "spin2x      --> 0.0\n",
      "spin2y      --> 0.0\n",
      "spin2z      --> 0.1911911911911912\n",
      "distance    --> 3685.686975991414\n",
      "ra          --> 1.39e-11\n",
      "dec         --> 1.2e-10\n",
      "psi         --> 0.0\n",
      "inclination --> 2.6\n",
      "phi0        --> 0.0\n",
      "lambda1     --> 0.0\n",
      "lambda2     --> 0.0\n",
      "\n",
      "\n",
      "---- Will use the following setup ----\n",
      "\n",
      "flow          --> 20.0\n",
      "fhigh         --> 1024\n",
      "fref          --> 20.0\n",
      "df            --> 0.125\n",
      "sampling-rate --> 2048\n",
      "approximant   --> IMRPhenomPv2\n",
      "amp_order     --> 0\n",
      "phase_order   --> -1\n",
      "starttime     --> -7.0\n",
      "trigtime      --> 0.0\n",
      "\n",
      "\n",
      "---- Will simulate the signal in the following detectors ----\n",
      "\n",
      "H1     --> True\n",
      "H1-psd --> psds/LIGO-P1200087-v18-aLIGO_DESIGN_psd.dat\n",
      "\n"
     ]
    }
   ],
   "source": [
    "from lensinggw.waveform.waveform import gw_signal\n",
    "\n",
    "# config_file = \"waveform_config.ini\"\n",
    "config_file = \"config_files/1.ini\"\n",
    "waveform_model = gw_signal(config_file)"
   ]
  },
  {
   "cell_type": "code",
   "execution_count": 51,
   "id": "54e48933",
   "metadata": {
    "scrolled": false
   },
   "outputs": [
    {
     "name": "stdout",
     "output_type": "stream",
     "text": [
      "\n",
      "Unlensed SNR in H1 = 3.41\n",
      "Network SNR of the unlensed simulation 3.414140\n",
      "\n"
     ]
    }
   ],
   "source": [
    "freqs, hp_tilde, hc_tilde, strain_dict = waveform_model.unlensed_gw()\n",
    "SNR_dict = waveform_model.unlensed_snr()\n",
    "sH1 = strain_dict['H1']\n",
    "\n"
   ]
  },
  {
   "cell_type": "code",
   "execution_count": 52,
   "id": "ae0cf1d3",
   "metadata": {},
   "outputs": [
    {
     "name": "stdout",
     "output_type": "stream",
     "text": [
      "\n",
      "Lensed SNR in H1 = 5.29\n",
      "Network SNR of the lensed simulation 5.290005\n",
      "\n"
     ]
    }
   ],
   "source": [
    "import numpy\n",
    "\n",
    "beta0, beta1 = 1.38717585112603e-11, 1.2013295265914425e-10\n",
    "\n",
    "# redshifts\n",
    "zL, zS = 0.5, 2.0\n",
    "\n",
    "# binary point mass lens model\n",
    "lens_model_list     = ['POINT_MASS', 'POINT_MASS'] \n",
    "kwargs_point_mass_1 = {'center_x': 6.93587925563015e-11,'center_y': 0.0, 'theta_E': 9.808814510294364e-11} \n",
    "kwargs_point_mass_2 = {'center_x': -6.93587925563015e-11,'center_y': 0.0, 'theta_E': 9.808814510294364e-11} \n",
    "kwargs_lens_list    = [kwargs_point_mass_1, kwargs_point_mass_2]\n",
    "\n",
    "# binary point mass images, in radians\n",
    "ra  = np.array([2.06184855e-11,  6.74286421e-11, -8.55036309e-11])\n",
    "dec = np.array([2.04174704e-10, -6.17971410e-11, -5.67605886e-11])\n",
    "\n",
    "freqs_lensed, hp_tilde_lensed, hc_tilde_lensed, lensed_strain_dict = waveform_model.lensed_gw(ra,dec,\n",
    "                                                                                              beta0,beta1,\n",
    "                                                                                              zL, zS,\n",
    "                                                                                              lens_model_list,\n",
    "                                                                                              kwargs_lens_list)\n",
    "\n",
    "# and their signal-to-noise-ratios\n",
    "lensed_SNR_dict = waveform_model.lensed_snr(ra,dec,\n",
    "                                            beta0,beta1,\n",
    "                                            zL, zS,\n",
    "                                            lens_model_list,\n",
    "                                            kwargs_lens_list)\n",
    "\n",
    "# access a lensed strain\n",
    "lensed_sH1 = lensed_strain_dict['H1']\n"
   ]
  },
  {
   "cell_type": "code",
   "execution_count": 53,
   "id": "74e2f0ed",
   "metadata": {},
   "outputs": [
    {
     "data": {
      "text/plain": [
       "{'H1': 3.414139657070517, 'network': 3.414139657070517}"
      ]
     },
     "execution_count": 53,
     "metadata": {},
     "output_type": "execute_result"
    }
   ],
   "source": [
    "SNR_dict"
   ]
  },
  {
   "cell_type": "code",
   "execution_count": 54,
   "id": "8368a236",
   "metadata": {},
   "outputs": [
    {
     "data": {
      "text/plain": [
       "Text(0.5, 0, 'frequency')"
      ]
     },
     "execution_count": 54,
     "metadata": {},
     "output_type": "execute_result"
    },
    {
     "data": {
      "image/png": "[encoded data removed]",
      "text/plain": [
       "<Figure size 432x288 with 1 Axes>"
      ]
     },
     "metadata": {
      "needs_background": "light"
     },
     "output_type": "display_data"
    }
   ],
   "source": [
    "import matplotlib.pyplot as plt\n",
    "\n",
    "plt.loglog(freqs, abs(sH1), label=\"unlensed\")\n",
    "plt.loglog(freqs, abs(lensed_sH1), label=\"lensed\")\n",
    "plt.legend(loc=0)\n",
    "plt.ylabel(\"strain\")\n",
    "plt.xlabel(\"frequency\")"
   ]
  },
  {
   "cell_type": "code",
   "execution_count": 55,
   "id": "d6f40f28",
   "metadata": {},
   "outputs": [
    {
     "data": {
      "text/plain": [
       "array([-1.25158854e-28, -1.25107203e-28, -1.25053279e-28, ...,\n",
       "       -1.25318044e-28, -1.25264831e-28, -1.25212730e-28])"
      ]
     },
     "execution_count": 55,
     "metadata": {},
     "output_type": "execute_result"
    }
   ],
   "source": [
    "import numpy.fft\n",
    "numpy.fft.irfft(sH1)"
   ]
  },
  {
   "cell_type": "code",
   "execution_count": 56,
   "id": "c8f66bd2",
   "metadata": {},
   "outputs": [],
   "source": [
    "sH1_fft = np.concatenate((np.zeros(160), sH1), axis=None)\n",
    "lensed_sH1_fft = np.concatenate((np.zeros(160), lensed_sH1), axis=None)\n",
    "ts = numpy.fft.irfft(sH1_fft)\n",
    "ts_lensed = numpy.fft.irfft(lensed_sH1_fft)"
   ]
  },
  {
   "cell_type": "code",
   "execution_count": 57,
   "id": "11c4320e",
   "metadata": {},
   "outputs": [
    {
     "data": {
      "text/plain": [
       "8193"
      ]
     },
     "execution_count": 57,
     "metadata": {},
     "output_type": "execute_result"
    }
   ],
   "source": [
    "len(sH1_fft)"
   ]
  },
  {
   "cell_type": "code",
   "execution_count": 58,
   "id": "d547a889",
   "metadata": {
    "scrolled": false
   },
   "outputs": [
    {
     "data": {
      "text/plain": [
       "<matplotlib.legend.Legend at 0x7f8a2eee05b0>"
      ]
     },
     "execution_count": 58,
     "metadata": {},
     "output_type": "execute_result"
    },
    {
     "data": {
      "image/png": "[encoded data removed]",
      "text/plain": [
       "<Figure size 432x288 with 1 Axes>"
      ]
     },
     "metadata": {
      "needs_background": "light"
     },
     "output_type": "display_data"
    }
   ],
   "source": [
    "\n",
    "plt.plot(ts_lensed, label=\"lensed\")\n",
    "plt.plot(ts, label=\"unlensed\")\n",
    "plt.legend(loc=0)"
   ]
  },
  {
   "cell_type": "code",
   "execution_count": 37,
   "id": "50eedd1f",
   "metadata": {
    "scrolled": true
   },
   "outputs": [
    {
     "data": {
      "text/plain": [
       "<matplotlib.legend.Legend at 0x7f8a2f418ac0>"
      ]
     },
     "execution_count": 37,
     "metadata": {},
     "output_type": "execute_result"
    },
    {
     "data": {
      "image/png": "[encoded data removed]",
      "text/plain": [
       "<Figure size 432x288 with 1 Axes>"
      ]
     },
     "metadata": {
      "needs_background": "light"
     },
     "output_type": "display_data"
    }
   ],
   "source": [
    "\n",
    "plt.plot(ts_lensed, label=\"lensed\")\n",
    "plt.plot(ts, label=\"unlensed\")\n",
    "plt.legend(loc=0)"
   ]
  },
  {
   "cell_type": "code",
   "execution_count": 9,
   "id": "19413301",
   "metadata": {},
   "outputs": [
    {
     "data": {
      "text/plain": [
       "16064"
      ]
     },
     "execution_count": 9,
     "metadata": {},
     "output_type": "execute_result"
    }
   ],
   "source": [
    "len(ts)"
   ]
  },
  {
   "cell_type": "code",
   "execution_count": null,
   "id": "60812138",
   "metadata": {},
   "outputs": [],
   "source": []
  }
 ],
 "metadata": {
  "kernelspec": {
   "display_name": "Python 3",
   "language": "python",
   "name": "python3"
  },
  "language_info": {
   "codemirror_mode": {
    "name": "ipython",
    "version": 3
   },
   "file_extension": ".py",
   "mimetype": "text/x-python",
   "name": "python",
   "nbconvert_exporter": "python",
   "pygments_lexer": "ipython3",
   "version": "3.8.8"
  }
 },
 "nbformat": 4,
 "nbformat_minor": 5
}
