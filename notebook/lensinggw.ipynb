{
 "cells": [
  {
   "cell_type": "code",
   "execution_count": 68,
   "id": "b2653b53",
   "metadata": {
    "scrolled": true
   },
   "outputs": [
    {
     "name": "stdout",
     "output_type": "stream",
     "text": [
      "\n",
      "---- Will simulate a signal with the following parameters ----\n",
      "\n",
      "m1          --> 50.0\n",
      "m2          --> 20.0\n",
      "spin1x      --> 0.0\n",
      "spin1y      --> 0.0\n",
      "spin1z      --> 0.5\n",
      "spin2x      --> 0.0\n",
      "spin2y      --> 0.0\n",
      "spin2z      --> 0.3\n",
      "distance    --> 15521.788104196934\n",
      "ra          --> 1.39e-11\n",
      "dec         --> 1.2e-10\n",
      "psi         --> 0.0\n",
      "inclination --> 2.6\n",
      "phi0        --> 0.0\n",
      "lambda1     --> 0.0\n",
      "lambda2     --> 0.0\n",
      "\n",
      "\n",
      "---- Will use the following setup ----\n",
      "\n",
      "flow          --> 20.0\n",
      "fhigh         --> 1024\n",
      "fref          --> 20.0\n",
      "df            --> 0.125\n",
      "sampling-rate --> 2048\n",
      "approximant   --> IMRPhenomPv2\n",
      "amp_order     --> 0\n",
      "phase_order   --> -1\n",
      "starttime     --> -4.0\n",
      "trigtime      --> 0.0\n",
      "\n",
      "\n",
      "---- Will simulate the signal in the following detectors ----\n",
      "\n",
      "H1     --> True\n",
      "H1-psd --> psds/LIGO-P1200087-v18-aLIGO_DESIGN_psd.dat\n",
      "\n"
     ]
    }
   ],
   "source": [
    "from lensinggw.waveform.waveform import gw_signal\n",
    "\n",
    "config_file = \"waveform_config.ini\"\n",
    "waveform_model = gw_signal(config_file)"
   ]
  },
  {
   "cell_type": "code",
   "execution_count": 70,
   "id": "d5b4cd3c",
   "metadata": {
    "scrolled": false
   },
   "outputs": [
    {
     "name": "stdout",
     "output_type": "stream",
     "text": [
      "\n",
      "Unlensed SNR in H1 = 1.57\n",
      "Network SNR of the unlensed simulation 1.568573\n",
      "\n"
     ]
    }
   ],
   "source": [
    "freqs, hp_tilde, hc_tilde, strain_dict = waveform_model.unlensed_gw()\n",
    "SNR_dict = waveform_model.unlensed_snr()\n",
    "sH1 = strain_dict['H1']\n",
    "\n"
   ]
  },
  {
   "cell_type": "code",
   "execution_count": 71,
   "id": "16ba968e",
   "metadata": {},
   "outputs": [
    {
     "name": "stdout",
     "output_type": "stream",
     "text": [
      "\n",
      "Lensed SNR in H1 = 2.32\n",
      "Network SNR of the lensed simulation 2.315061\n",
      "\n"
     ]
    }
   ],
   "source": [
    "import numpy as np\n",
    "\n",
    "beta0, beta1 = 1.38717585112603e-11, 1.2013295265914425e-10\n",
    "\n",
    "# redshifts\n",
    "zL, zS = 0.5, 2.0\n",
    "\n",
    "# binary point mass lens model\n",
    "lens_model_list     = ['POINT_MASS', 'POINT_MASS'] \n",
    "kwargs_point_mass_1 = {'center_x': 6.93587925563015e-11,'center_y': 0.0, 'theta_E': 9.808814510294364e-11} \n",
    "kwargs_point_mass_2 = {'center_x': -6.93587925563015e-11,'center_y': 0.0, 'theta_E': 9.808814510294364e-11} \n",
    "kwargs_lens_list    = [kwargs_point_mass_1, kwargs_point_mass_2]\n",
    "\n",
    "# binary point mass images, in radians\n",
    "ra  = np.array([2.06184855e-11,  6.74286421e-11, -8.55036309e-11])\n",
    "dec = np.array([2.04174704e-10, -6.17971410e-11, -5.67605886e-11])\n",
    "\n",
    "freqs_lensed, hp_tilde_lensed, hc_tilde_lensed, lensed_strain_dict = waveform_model.lensed_gw(ra,dec,\n",
    "                                                                                              beta0,beta1,\n",
    "                                                                                              zL, zS,\n",
    "                                                                                              lens_model_list,\n",
    "                                                                                              kwargs_lens_list)\n",
    "\n",
    "# and their signal-to-noise-ratios\n",
    "lensed_SNR_dict = waveform_model.lensed_snr(ra,dec,\n",
    "                                            beta0,beta1,\n",
    "                                            zL, zS,\n",
    "                                            lens_model_list,\n",
    "                                            kwargs_lens_list)\n",
    "\n",
    "# access a lensed strain\n",
    "lensed_sH1 = lensed_strain_dict['H1']\n"
   ]
  },
  {
   "cell_type": "code",
   "execution_count": null,
   "id": "a80b262c",
   "metadata": {},
   "outputs": [],
   "source": [
    "SNR_dict"
   ]
  },
  {
   "cell_type": "code",
   "execution_count": 72,
   "id": "38e10b2e",
   "metadata": {},
   "outputs": [
    {
     "data": {
      "text/plain": [
       "Text(0.5, 0, 'frequency')"
      ]
     },
     "execution_count": 72,
     "metadata": {},
     "output_type": "execute_result"
    },
    {
     "data": {
      "image/png": "[encoded data removed]",
      "text/plain": [
       "<Figure size 432x288 with 1 Axes>"
      ]
     },
     "metadata": {
      "needs_background": "light"
     },
     "output_type": "display_data"
    }
   ],
   "source": [
    "import matplotlib.pyplot as plt\n",
    "\n",
    "plt.loglog(freqs, abs(sH1), label=\"unlensed\")\n",
    "plt.loglog(freqs, abs(lensed_sH1), label=\"lensed\")\n",
    "plt.legend(loc=0)\n",
    "plt.ylabel(\"strain\")\n",
    "plt.xlabel(\"frequency\")"
   ]
  },
  {
   "cell_type": "code",
   "execution_count": 89,
   "id": "b752cb92",
   "metadata": {},
   "outputs": [
    {
     "data": {
      "text/plain": [
       "array([-2.01275562e-29, -2.01395369e-29, -2.01511732e-29, ...,\n",
       "       -2.00923448e-29, -2.01041214e-29, -2.01156837e-29])"
      ]
     },
     "execution_count": 89,
     "metadata": {},
     "output_type": "execute_result"
    }
   ],
   "source": [
    "import numpy.fft\n",
    "numpy.fft.irfft(sH1)"
   ]
  },
  {
   "cell_type": "code",
   "execution_count": 86,
   "id": "c48d39e6",
   "metadata": {},
   "outputs": [],
   "source": [
    "ts = numpy.fft.irfft(sH1)\n",
    "ts_lensed = numpy.fft.irfft(lensed_sH1)"
   ]
  },
  {
   "cell_type": "code",
   "execution_count": 88,
   "id": "dd116b7e",
   "metadata": {
    "scrolled": true
   },
   "outputs": [
    {
     "data": {
      "text/plain": [
       "[<matplotlib.lines.Line2D at 0x7f3889eb9940>]"
      ]
     },
     "execution_count": 88,
     "metadata": {},
     "output_type": "execute_result"
    },
    {
     "data": {
      "image/png": "[encoded data removed]",
      "text/plain": [
       "<Figure size 432x288 with 1 Axes>"
      ]
     },
     "metadata": {
      "needs_background": "light"
     },
     "output_type": "display_data"
    }
   ],
   "source": [
    "plt.plot(ts)\n",
    "# plt.plot(ts_lensed)"
   ]
  },
  {
   "cell_type": "code",
   "execution_count": 78,
   "id": "dce73c01",
   "metadata": {},
   "outputs": [
    {
     "data": {
      "text/plain": [
       "16064"
      ]
     },
     "execution_count": 78,
     "metadata": {},
     "output_type": "execute_result"
    }
   ],
   "source": [
    "len(ts)"
   ]
  },
  {
   "cell_type": "code",
   "execution_count": null,
   "id": "c5708d8a",
   "metadata": {},
   "outputs": [],
   "source": []
  }
 ],
 "metadata": {
  "kernelspec": {
   "display_name": "Python 3",
   "language": "python",
   "name": "python3"
  },
  "language_info": {
   "codemirror_mode": {
    "name": "ipython",
    "version": 3
   },
   "file_extension": ".py",
   "mimetype": "text/x-python",
   "name": "python",
   "nbconvert_exporter": "python",
   "pygments_lexer": "ipython3",
   "version": "3.8.8"
  }
 },
 "nbformat": 4,
 "nbformat_minor": 5
}
